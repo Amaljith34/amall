{
 "cells": [
  {
   "cell_type": "code",
   "execution_count": 1,
   "metadata": {},
   "outputs": [
    {
     "name": "stdout",
     "output_type": "stream",
     "text": [
      "hi\n"
     ]
    }
   ],
   "source": [
    "print('hi')"
   ]
  },
  {
   "cell_type": "code",
   "execution_count": 3,
   "metadata": {},
   "outputs": [],
   "source": [
    "from selenium import webdriver\n",
    "from selenium.webdriver.common.keys import Keys\n",
    "from selenium import webdriver\n",
    "import chromedriver_binary\n",
    "from urllib.request import urlopen\n",
    "from selenium.webdriver.support.select import Select\n",
    "from selenium.webdriver.support.ui import WebDriverWait\n",
    "from selenium.webdriver.support import expected_conditions as EC\n",
    "from selenium import webdriver as selenium_webdriver\n",
    "import time\n",
    "from selenium.webdriver.chrome.service import Service\n",
    "import pandas as pd\n",
    "from selenium.webdriver.common.by import By"
   ]
  },
  {
   "cell_type": "code",
   "execution_count": 68,
   "metadata": {},
   "outputs": [],
   "source": [
    "service = Service(executable_path=r'C:\\Users\\user\\Desktop\\twitter\\chromedriver-win64\\chromedriver.exe')\n",
    "options = webdriver.ChromeOptions()\n",
    "driver = webdriver.Chrome(service=service,options=options)\n",
    "driver.get(\"https://twitter.com\")\n",
    "driver.maximize_window()\n"
   ]
  },
  {
   "cell_type": "code",
   "execution_count": 69,
   "metadata": {},
   "outputs": [],
   "source": [
    "sign=driver.find_element(By.XPATH,'//*[@id=\"react-root\"]/div/div/div[2]/main/div/div/div[1]/div[1]/div/div[3]/div[5]/a/div')\n",
    "sign.click()"
   ]
  },
  {
   "cell_type": "code",
   "execution_count": 70,
   "metadata": {},
   "outputs": [],
   "source": [
    "\n",
    "username=driver.find_element(By.XPATH,'//*[@id=\"layers\"]/div/div/div/div/div/div/div[2]/div[2]/div/div/div[2]/div[2]/div/div/div/div[5]/label/div/div[2]/div/input')\n",
    "username.send_keys('jith51541@gmail.com')"
   ]
  },
  {
   "cell_type": "code",
   "execution_count": 71,
   "metadata": {},
   "outputs": [],
   "source": [
    "next=driver.find_element(By.XPATH,'//*[@id=\"layers\"]/div/div/div/div/div/div/div[2]/div[2]/div/div/div[2]/div[2]/div/div/div/div[6]/div')\n",
    "next.click()                  "
   ]
  },
  {
   "cell_type": "code",
   "execution_count": 77,
   "metadata": {},
   "outputs": [],
   "source": [
    "phone=driver.find_element(By.XPATH,'//*[@id=\"layers\"]/div[2]/div/div/div/div/div/div[2]/div[2]/div/div/div[2]/div[2]/div[1]/div/div[2]/label/div/div[2]/div/input')\n",
    "phone.send_keys('amaljithaj29')"
   ]
  },
  {
   "cell_type": "code",
   "execution_count": 80,
   "metadata": {},
   "outputs": [],
   "source": [
    "next=driver.find_element(By.XPATH,'//*[@id=\"layers\"]/div[2]/div/div/div/div/div/div[2]/div[2]/div/div/div[2]/div[2]/div[2]/div/div/div/div/div')\n",
    "next.click() "
   ]
  },
  {
   "cell_type": "code",
   "execution_count": 82,
   "metadata": {},
   "outputs": [],
   "source": [
    "password=driver.find_element(By.XPATH,'//*[@id=\"layers\"]/div[2]/div/div/div/div/div/div[2]/div[2]/div/div/div[2]/div[2]/div[1]/div/div/div[3]/div/label/div/div[2]/div[1]/input')\n",
    "password.send_keys('amal@2002')"
   ]
  },
  {
   "cell_type": "code",
   "execution_count": 84,
   "metadata": {},
   "outputs": [],
   "source": [
    "login=driver.find_element(By.XPATH,'//*[@id=\"layers\"]/div[2]/div/div/div/div/div/div[2]/div[2]/div/div/div[2]/div[2]/div[2]/div/div[1]/div/div/div/div')\n",
    "login.click()"
   ]
  },
  {
   "cell_type": "code",
   "execution_count": 89,
   "metadata": {},
   "outputs": [],
   "source": [
    "explore=driver.find_element(By.XPATH,'//*[@id=\"react-root\"]/div/div/div[2]/header/div/div/div/div[1]/div[2]/nav/a[2]/div/div[2]/span')\n",
    "explore.click()"
   ]
  },
  {
   "cell_type": "code",
   "execution_count": null,
   "metadata": {},
   "outputs": [],
   "source": [
    "search=driver.find_element(By.XPATH,'//*[@id=\"react-root\"]/div/div/div[2]/main/div/div/div/div[1]/div/div[1]/div[1]/div[1]/div/div/div/div/div[1]/div[2]/div/div/div/form/div[1]/div/div/div/label/div[2]/div/input')\n",
    "search.send_keys('navakerala')\n",
    "search.send_keys(Keys.ENTER)"
   ]
  },
  {
   "cell_type": "code",
   "execution_count": 104,
   "metadata": {},
   "outputs": [],
   "source": [
    "twits=driver.find_elements(By.XPATH,'//*[@data-testid=\"tweetText\"]')\n",
    "twitdata=[]\n",
    "for i in twits:\n",
    "    twitdata.append(i.text)"
   ]
  },
  {
   "cell_type": "code",
   "execution_count": 105,
   "metadata": {},
   "outputs": [
    {
     "data": {
      "text/plain": [
       "['Our constituency - Aroor \\n\\nTowards navakerala\\n#navakeralasadas #aroor\\n#keralam',\n",
       " 'A #Mapra_Pramukh who came up to shoot empty chairs from #Navakerala_sadas!!',\n",
       " 'NAVA KERALA SLEEPING DEVELOPMENT Corp after  \"NAVAKERALA EATING\"  !!!!',\n",
       " 'Youth Cong protest on Kerala CMs Navakerala trip where DYFi goondas and Gunman has attacked Cong leadeds and workers.',\n",
       " \"Didn't expect navakerala sadas to be this extensive\",\n",
       " 'Navakerala Sadass brewing in my constituency.',\n",
       " \"'Navakerala Sadas' took place in four constituencies in the Kannur district, namely Azhikode, Kannur, Dharmadom, and Thalassery. Bringing people together from all walks of life, these lively gatherings witnessed active participation and discussions on the projects accomplished by…\",\n",
       " \"#WATCH | Kerala: BJP supporters stage protest holding black balloons against allotting 'Saraswati Mandapam' adjacent to Saraswati temple, Poojappura as the organising committee office of Navakerala Sadasu. Police use water canons to disperse the protestors.\",\n",
       " 'eng college കുട്ടികളെ രക്ഷിക്കുന്ന വേറൊരു രീതി.. ജനതിപത്യം.. \\u2066\\n@ShamseerAN\\n\\u2069 myth അല്ലല്ലൊ അല്ലെ ? Speaker issuing letters to colleges asking students to attend the navakerala bluffing .. New Kerala, no class',\n",
       " \"This is 'NavaKerala' under CPM regime!: Kerala's DPI ( Head of school education), S Shanavas, IAS hits out; 'even those students who couldn't write their name are given A+ grade in Xth Std public exams....'.\\nDon't forget qualified students who comes out of +2 exams are leaving…\"]"
      ]
     },
     "execution_count": 105,
     "metadata": {},
     "output_type": "execute_result"
    }
   ],
   "source": [
    "twitdata"
   ]
  },
  {
   "cell_type": "code",
   "execution_count": null,
   "metadata": {},
   "outputs": [],
   "source": []
  }
 ],
 "metadata": {
  "kernelspec": {
   "display_name": "Python 3",
   "language": "python",
   "name": "python3"
  },
  "language_info": {
   "codemirror_mode": {
    "name": "ipython",
    "version": 3
   },
   "file_extension": ".py",
   "mimetype": "text/x-python",
   "name": "python",
   "nbconvert_exporter": "python",
   "pygments_lexer": "ipython3",
   "version": "3.11.5"
  }
 },
 "nbformat": 4,
 "nbformat_minor": 2
}
